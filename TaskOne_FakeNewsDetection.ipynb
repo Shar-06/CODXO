{
 "cells": [
  {
   "cell_type": "code",
   "execution_count": 11,
   "id": "93e82027",
   "metadata": {},
   "outputs": [],
   "source": [
    "import numpy as np\n",
    "import pandas as pd\n",
    "import re\n",
    "import string\n",
    "\n",
    "from sklearn.model_selection import train_test_split\n",
    "from sklearn.feature_extraction.text import TfidfVectorizer\n",
    "from sklearn.metrics import accuracy_score\n",
    "from sklearn.metrics import classification_report"
   ]
  },
  {
   "cell_type": "code",
   "execution_count": 12,
   "id": "ef44cb67",
   "metadata": {},
   "outputs": [],
   "source": [
    "#Initialize the datasets\n",
    "fake_data = pd.read_csv(\"Fake.csv\")\n",
    "real_data = pd.read_csv(\"True.csv\")\n",
    "\n",
    "#Create labels for the datasets\n",
    "fake_data['label'] = \"FAKE\"\n",
    "real_data['label'] = \"REAL\"\n",
    "\n",
    "#combine the two datasets\n",
    "data = pd.concat([fake_data,real_data]).reset_index(drop=True)\n",
    "\n",
    "#Shuffling to randomize the data to avoid biased results\n",
    "data = data.sample(frac = 1)\n",
    "\n",
    "#Preprocess data to clean it of unnecessary characters such as punctuations,urls,etc that may confuse the model during training\n",
    "def preprocess(text):\n",
    "    text = text.lower() #converts all characters to lowercase for uniformity\n",
    "    text = re.sub('\\[.*?\\]','',text) #remove non-alphabetics\n",
    "    text = re.sub(\"\\\\W\",\" \",text)\n",
    "    text = re.sub('https?://S+/www\\.\\S+','',text) #remove urls\n",
    "    text = re.sub('[%s]' % re.escape(string.punctuation),'',text) #remove punctuations\n",
    "    text = re.sub('<.*?>+','',text) #remove HTML tags\n",
    "    text = re.sub('\\w*\\d\\w*','',text) #remove words with digits\n",
    "    text = re.sub('\\n','',text) #remove new lines\n",
    "    \n",
    "    return text\n",
    "\n",
    "#Apply the preprocessing\n",
    "data['text'] = data['text'].apply(preprocess)\n",
    "\n",
    "x,y = data['text'], data['label']\n",
    "\n",
    "#split the dataset for training and testing\n",
    "x_train,x_test,y_train,y_test = train_test_split(x,y, test_size = 0.2)\n",
    "\n",
    "#Initialize the vectorizer\n",
    "vectorizer = TfidfVectorizer(stop_words = \"english\", max_df = 0.7)\n",
    "\n",
    "#vectorize the split sets\n",
    "x_train_vectorized = vectorizer.fit_transform(x_train)\n",
    "x_test_vectorized = vectorizer.transform(x_test)\n"
   ]
  },
  {
   "cell_type": "code",
   "execution_count": 13,
   "id": "5b1205c3",
   "metadata": {},
   "outputs": [
    {
     "data": {
      "text/plain": [
       "0.984521158129176"
      ]
     },
     "execution_count": 13,
     "metadata": {},
     "output_type": "execute_result"
    }
   ],
   "source": [
    "#The LogisticRegression classifier\n",
    "from sklearn.linear_model import LogisticRegression \n",
    "LR = LogisticRegression()\n",
    "LR.fit(x_train_vectorized, y_train)\n",
    "LR.score(x_test_vectorized, y_test)"
   ]
  },
  {
   "cell_type": "code",
   "execution_count": 14,
   "id": "3cfa66cc",
   "metadata": {},
   "outputs": [
    {
     "name": "stdout",
     "output_type": "stream",
     "text": [
      " Sheriff David Clarke Becomes An Internet Joke For Threatening To Poke People â€˜In The Eyeâ€™,\"On Friday, it was revealed that former Milwaukee Sheriff David Clarke, who was being considered for Homeland Security Secretary in Donald Trump s administration, has an email scandal of his own.In January, there was a brief run-in on a plane between Clarke and fellow passenger Dan Black, who he later had detained by the police for no reason whatsoever, except that maybe his feelings were hurt. Clarke messaged the police to stop Black after he deplaned, and now, a search warrant has been executed by the FBI to see the exchanges.Clarke is calling it fake news even though copies of the search warrant are on the Internet. I am UNINTIMIDATED by lib media attempts to smear and discredit me with their FAKE NEWS reports designed to silence me,  the former sheriff tweeted.  I will continue to poke them in the eye with a sharp stick and bitch slap these scum bags til they get it. I have been attacked by better people than them #MAGA I am UNINTIMIDATED by lib media attempts to smear and discredit me with their FAKE NEWS reports designed to silence me. I will continue to poke them in the eye with a sharp stick and bitch slap these scum bags til they get it. I have been attacked by better people than them #MAGA pic.twitter.com/XtZW5PdU2b  David A. Clarke, Jr. (@SheriffClarke) December 30, 2017He didn t stop there.BREAKING NEWS! When LYING LIB MEDIA makes up FAKE NEWS to smear me, the ANTIDOTE is go right at them. Punch them in the nose & MAKE THEM TASTE THEIR OWN BLOOD. Nothing gets a bully like LYING LIB MEDIA S attention better than to give them a taste of their own blood #neverbackdown pic.twitter.com/T2NY2psHCR  David A. Clarke, Jr. (@SheriffClarke) December 30, 2017The internet called him out.This is your local newspaper and that search warrant isn t fake, and just because the chose not to file charges at the time doesn t mean they won t! Especially if you continue to lie. Months after decision not to charge Clarke, email search warrant filed https://t.co/zcbyc4Wp5b  KeithLeBlanc (@KeithLeBlanc63) December 30, 2017I just hope the rest of the Village People aren t implicated.  Kirk Ketchum (@kirkketchum) December 30, 2017Slaw, baked potatoes, or French fries? pic.twitter.com/fWfXsZupxy  ALT- Immigration   (@ALT_uscis) December 30, 2017pic.twitter.com/ymsOBLjfxU  Pendulum Swinger (@PendulumSwngr) December 30, 2017you called your police friends to stand up for you when someone made fun of your hat  Chris Jackson (@ChrisCJackson) December 30, 2017Is it me, with this masterful pshop of your hat, which I seem to never tire of. I think it s the steely resolve in your one visible eye pic.twitter.com/dWr5k8ZEZV  Chris Mohney (@chrismohney) December 30, 2017Are you indicating with your fingers how many people died in your jail? I think you re a few fingers short, dipshit  Ike Barinholtz (@ikebarinholtz) December 30, 2017ROFL. Internet tough guy with fake flair. pic.twitter.com/ulCFddhkdy  KellMeCrazy (@Kel_MoonFace) December 30, 2017You re so edgy, buddy.  Mrs. SMH (@MRSSMH2) December 30, 2017Is his break over at Applebees?  Aaron (@feltrrr2) December 30, 2017Are you trying to earn your  still relevant  badge?  CircusRebel (@CircusDrew) December 30, 2017make sure to hydrate, drink lots of water. It s rumored that prisoners can be denied water by prison officials.  Robert Klinc (@RobertKlinc1) December 30, 2017Terrill Thomas, the 38-year-old black man who died of thirst in Clarke s Milwaukee County Jail cell this April, was a victim of homicide. We just thought we should point that out. It can t be repeated enough.Photo by Spencer Platt/Getty Images.\",News,\"December 30, 2017\"\n",
      "\n",
      "\n",
      "LR Prediction: FAKE\n"
     ]
    }
   ],
   "source": [
    "#Define a function that will produce the predictions given a text input\n",
    "def Detect(news):\n",
    "    news_txt = {'text':[news]} #create a dictionary to prepare input for format conversion to a dataframe\n",
    "    news_data = pd.DataFrame(news_txt) \n",
    "    news_data['text'] = news_data['text'].apply(preprocess)\n",
    "    new_x_test = news_data['text']\n",
    "    new_x_test_vectorized = vectorizer.transform(new_x_test)\n",
    "    \n",
    "    #classifier prediction\n",
    "    predict_lr = LR.predict(new_x_test_vectorized)\n",
    "    \n",
    "    result = \"\\n\\nLR Prediction: {}\".format(\n",
    "           predict_lr[0]\n",
    "    )\n",
    "    \n",
    "    return result\n",
    "\n",
    "News = str(input())\n",
    "print(Detect(News))"
   ]
  },
  {
   "cell_type": "code",
   "execution_count": 15,
   "id": "157557e6",
   "metadata": {},
   "outputs": [
    {
     "name": "stdout",
     "output_type": "stream",
     "text": [
      "On Monday, a senior government official sparked outrage after making controversial remarks during a public event. The official, who remains unnamed, reportedly made disparaging comments about minority communities, prompting widespread condemnation from civil rights groups and political opponents.  According to witnesses at the event, the official claimed that certain minority groups were responsible for societal unrest and economic downturns. These remarks were met with immediate backlash on social media, with many users calling for the official's resignation and condemning the divisive rhetoric.  In response to the criticism, the official doubled down on their statements, stating that they would not be intimidated by media attempts to smear their reputation with false accusations. They vowed to continue advocating for policies they believe will strengthen national security and restore economic prosperity.  Despite the controversy, supporters of the official rallied behind them, citing their record of tough stances on crime and immigration as reasons for their continued support. The incident has reignited debates about free speech and the responsibilities of public officials in maintaining public trust.\n",
      "\n",
      "\n",
      "LR Prediction: REAL\n"
     ]
    }
   ],
   "source": [
    "News = str(input())\n",
    "print(Detect(News))"
   ]
  },
  {
   "cell_type": "code",
   "execution_count": null,
   "id": "9b02c712",
   "metadata": {},
   "outputs": [],
   "source": []
  }
 ],
 "metadata": {
  "kernelspec": {
   "display_name": "Python 3 (ipykernel)",
   "language": "python",
   "name": "python3"
  },
  "language_info": {
   "codemirror_mode": {
    "name": "ipython",
    "version": 3
   },
   "file_extension": ".py",
   "mimetype": "text/x-python",
   "name": "python",
   "nbconvert_exporter": "python",
   "pygments_lexer": "ipython3",
   "version": "3.9.13"
  }
 },
 "nbformat": 4,
 "nbformat_minor": 5
}
