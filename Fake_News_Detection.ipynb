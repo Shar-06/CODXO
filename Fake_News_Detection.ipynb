{
 "cells": [
  {
   "cell_type": "code",
   "execution_count": 2,
   "id": "873bac48",
   "metadata": {},
   "outputs": [],
   "source": [
    "import numpy as np\n",
    "import pandas as pd\n",
    "import re\n",
    "import string\n",
    "\n",
    "from sklearn.model_selection import train_test_split\n",
    "from sklearn.feature_extraction.text import TfidfVectorizer"
   ]
  },
  {
   "cell_type": "code",
   "execution_count": 3,
   "id": "b76ebddf",
   "metadata": {},
   "outputs": [],
   "source": [
    "#Initialize the datasets\n",
    "fake_data = pd.read_csv(\"Fake.csv\")\n",
    "real_data = pd.read_csv(\"True.csv\")\n",
    "\n",
    "#Create labels for the datasets\n",
    "fake_data['label'] = \"FAKE\"\n",
    "real_data['label'] = \"REAL\"\n",
    "\n",
    "#combine the two datasets\n",
    "data = pd.concat([fake_data,real_data]).reset_index(drop=True)\n",
    "\n",
    "#Shuffling to randomize the data to avoid biased results\n",
    "data = data.sample(frac = 1)\n",
    "\n",
    "#Preprocess data to clean it of unnecessary characters such as punctuations,urls,etc that may confuse the model during training\n",
    "def preprocess(text):\n",
    "    text = text.lower() #converts all characters to lowercase for uniformity\n",
    "    text = re.sub('\\[.*?\\]','',text) #remove non-alphabetics\n",
    "    text = re.sub(\"\\\\W\",\" \",text)\n",
    "    text = re.sub('https?://S+/www\\.\\S+','',text) #remove urls\n",
    "    text = re.sub('[%s]' % re.escape(string.punctuation),'',text) #remove punctuations\n",
    "    text = re.sub('<.*?>+','',text) #remove HTML tags\n",
    "    text = re.sub('\\w*\\d\\w*','',text) #remove words with digits\n",
    "    text = re.sub('\\n','',text) #remove new lines\n",
    "    \n",
    "    return text\n",
    "\n",
    "#Apply the preprocessing\n",
    "data['text'] = data['text'].apply(preprocess)\n",
    "\n",
    "x,y = data['text'], data['label']\n",
    "\n",
    "#split the dataset for training and testing\n",
    "x_train,x_test,y_train,y_test = train_test_split(x,y, test_size = 0.2)\n",
    "\n",
    "#Initialize the vectorizer\n",
    "vectorizer = TfidfVectorizer(stop_words = \"english\", max_df = 0.7)\n",
    "\n",
    "#vectorize the split sets\n",
    "x_train_vectorized = vectorizer.fit_transform(x_train)\n",
    "x_test_vectorized = vectorizer.transform(x_test)\n"
   ]
  },
  {
   "cell_type": "code",
   "execution_count": 4,
   "id": "4a096f72",
   "metadata": {},
   "outputs": [
    {
     "data": {
      "text/plain": [
       "0.994543429844098"
      ]
     },
     "execution_count": 4,
     "metadata": {},
     "output_type": "execute_result"
    }
   ],
   "source": [
    "#The LinearSVC classifier\n",
    "from sklearn.svm import LinearSVC\n",
    "clf = LinearSVC()\n",
    "clf.fit(x_train_vectorized, y_train)\n",
    "clf.score(x_test_vectorized, y_test)"
   ]
  },
  {
   "cell_type": "code",
   "execution_count": 5,
   "id": "5c42bf9a",
   "metadata": {},
   "outputs": [
    {
     "data": {
      "text/plain": [
       "0.9839643652561247"
      ]
     },
     "execution_count": 5,
     "metadata": {},
     "output_type": "execute_result"
    }
   ],
   "source": [
    "#The LogisticRegression classifier\n",
    "from sklearn.linear_model import LogisticRegression \n",
    "LR = LogisticRegression()\n",
    "LR.fit(x_train_vectorized, y_train)\n",
    "LR.score(x_test_vectorized, y_test)"
   ]
  },
  {
   "cell_type": "code",
   "execution_count": 6,
   "id": "76e22de3",
   "metadata": {},
   "outputs": [
    {
     "data": {
      "text/plain": [
       "0.9964365256124722"
      ]
     },
     "execution_count": 6,
     "metadata": {},
     "output_type": "execute_result"
    }
   ],
   "source": [
    "#The DecisionTree classifier\n",
    "from sklearn.tree import DecisionTreeClassifier\n",
    "DT = DecisionTreeClassifier()\n",
    "DT.fit(x_train_vectorized, y_train)\n",
    "DT.score(x_test_vectorized, y_test)"
   ]
  },
  {
   "cell_type": "code",
   "execution_count": 7,
   "id": "9ca1da68",
   "metadata": {},
   "outputs": [
    {
     "data": {
      "text/plain": [
       "0.995879732739421"
      ]
     },
     "execution_count": 7,
     "metadata": {},
     "output_type": "execute_result"
    }
   ],
   "source": [
    "#The GradientBoosting classifier\n",
    "from sklearn.ensemble import GradientBoostingClassifier\n",
    "GB = GradientBoostingClassifier(random_state = 0)\n",
    "GB.fit(x_train_vectorized, y_train)\n",
    "GB.score(x_test_vectorized, y_test)"
   ]
  },
  {
   "cell_type": "code",
   "execution_count": 8,
   "id": "f423cf52",
   "metadata": {},
   "outputs": [
    {
     "data": {
      "text/plain": [
       "0.9920935412026726"
      ]
     },
     "execution_count": 8,
     "metadata": {},
     "output_type": "execute_result"
    }
   ],
   "source": [
    "#The RandomForest classifier\n",
    "from sklearn.ensemble import RandomForestClassifier\n",
    "RF = RandomForestClassifier(random_state = 0)\n",
    "RF.fit(x_train_vectorized, y_train)\n",
    "RF.score(x_test_vectorized, y_test)"
   ]
  },
  {
   "cell_type": "code",
   "execution_count": 11,
   "id": "622a5483",
   "metadata": {},
   "outputs": [
    {
     "name": "stdout",
     "output_type": "stream",
     "text": [
      "U.S. House tax chairman proposes tweaks to tax-cut bill,\"WASHINGTON (Reuters) - A proposed tax on $2.6 trillion in foreign profits held offshore by U.S. multinational corporations would be raised under an amendment offered on Thursday by the chairman of the U.S. House of Representatives tax committee to his own tax-cut bill. Texas Republican Representative Kevin Brady called for raising the tax to 14 percent for cash and liquid assets and 7 percent for illiquid assets, up from his earlier proposal of 12 percent and 5 percent, respectively. The proposed increase would raise more federal revenue under the tax bill being offered by House Republicans, with Senate Republicans offering a separate bill. \",politicsNews,\"November 9, 2017 \"\t\t\t\t\t\t\t\t\t\t\t\t\t\t\n",
      "\n",
      "\n",
      "CLF Prediction: REAL \n",
      "LR Prediction: REAL \n",
      "DT Prediction: REAL \n",
      "GB Prediction: REAL \n",
      "RF Prediction: REAL\n"
     ]
    }
   ],
   "source": [
    "#Define a function that will produce the predictions given a text input\n",
    "def Detect(news):\n",
    "    news_txt = {'text':[news]} #create a dictionary to prepare input for format conversion to a dataframe\n",
    "    news_data = pd.DataFrame(news_txt) \n",
    "    news_data['text'] = news_data['text'].apply(preprocess)\n",
    "    new_x_test = news_data['text']\n",
    "    new_x_test_vectorized = vectorizer.transform(new_x_test)\n",
    "    \n",
    "    #classifier predictions\n",
    "    predict_clf = clf.predict(new_x_test_vectorized)\n",
    "    predict_lr = LR.predict(new_x_test_vectorized)\n",
    "    predict_dt = DT.predict(new_x_test_vectorized)\n",
    "    predict_gb = GB.predict(new_x_test_vectorized)\n",
    "    predict_rf = RF.predict(new_x_test_vectorized)  \n",
    "    \n",
    "    result = \"\\n\\nCLF Prediction: {} \\nLR Prediction: {} \\nDT Prediction: {} \\nGB Prediction: {} \\nRF Prediction: {}\".format(\n",
    "           predict_clf[0],\n",
    "           predict_lr[0],\n",
    "           predict_dt[0],\n",
    "           predict_gb[0],\n",
    "           predict_rf[0]\n",
    "    )\n",
    "    \n",
    "    return result\n",
    "\n",
    "News = str(input())\n",
    "print(Detect(News))"
   ]
  },
  {
   "cell_type": "code",
   "execution_count": 12,
   "id": "8682c8c0",
   "metadata": {},
   "outputs": [
    {
     "name": "stdout",
     "output_type": "stream",
     "text": [
      " Sheriff David Clarke Becomes An Internet Joke For Threatening To Poke People â€˜In The Eyeâ€™,\"On Friday, it was revealed that former Milwaukee Sheriff David Clarke, who was being considered for Homeland Security Secretary in Donald Trump s administration, has an email scandal of his own.In January, there was a brief run-in on a plane between Clarke and fellow passenger Dan Black, who he later had detained by the police for no reason whatsoever, except that maybe his feelings were hurt. Clarke messaged the police to stop Black after he deplaned, and now, a search warrant has been executed by the FBI to see the exchanges.Clarke is calling it fake news even though copies of the search warrant are on the Internet. I am UNINTIMIDATED by lib media attempts to smear and discredit me with their FAKE NEWS reports designed to silence me,  the former sheriff tweeted.  I will continue to poke them in the eye with a sharp stick and bitch slap these scum bags til they get it. I have been attacked by better people than them #MAGA I am UNINTIMIDATED by lib media attempts to smear and discredit me with their FAKE NEWS reports designed to silence me. I will continue to poke them in the eye with a sharp stick and bitch slap these scum bags til they get it. I have been attacked by better people than them #MAGA pic.twitter.com/XtZW5PdU2b  David A. Clarke, Jr. (@SheriffClarke) December 30, 2017He didn t stop there.BREAKING NEWS! When LYING LIB MEDIA makes up FAKE NEWS to smear me, the ANTIDOTE is go right at them. Punch them in the nose & MAKE THEM TASTE THEIR OWN BLOOD. Nothing gets a bully like LYING LIB MEDIA S attention better than to give them a taste of their own blood #neverbackdown pic.twitter.com/T2NY2psHCR  David A. Clarke, Jr. (@SheriffClarke) December 30, 2017The internet called him out.This is your local newspaper and that search warrant isn t fake, and just because the chose not to file charges at the time doesn t mean they won t! Especially if you continue to lie. Months after decision not to charge Clarke, email search warrant filed https://t.co/zcbyc4Wp5b  KeithLeBlanc (@KeithLeBlanc63) December 30, 2017I just hope the rest of the Village People aren t implicated.  Kirk Ketchum (@kirkketchum) December 30, 2017Slaw, baked potatoes, or French fries? pic.twitter.com/fWfXsZupxy  ALT- Immigration   (@ALT_uscis) December 30, 2017pic.twitter.com/ymsOBLjfxU  Pendulum Swinger (@PendulumSwngr) December 30, 2017you called your police friends to stand up for you when someone made fun of your hat  Chris Jackson (@ChrisCJackson) December 30, 2017Is it me, with this masterful pshop of your hat, which I seem to never tire of. I think it s the steely resolve in your one visible eye pic.twitter.com/dWr5k8ZEZV  Chris Mohney (@chrismohney) December 30, 2017Are you indicating with your fingers how many people died in your jail? I think you re a few fingers short, dipshit  Ike Barinholtz (@ikebarinholtz) December 30, 2017ROFL. Internet tough guy with fake flair. pic.twitter.com/ulCFddhkdy  KellMeCrazy (@Kel_MoonFace) December 30, 2017You re so edgy, buddy.  Mrs. SMH (@MRSSMH2) December 30, 2017Is his break over at Applebees?  Aaron (@feltrrr2) December 30, 2017Are you trying to earn your  still relevant  badge?  CircusRebel (@CircusDrew) December 30, 2017make sure to hydrate, drink lots of water. It s rumored that prisoners can be denied water by prison officials.  Robert Klinc (@RobertKlinc1) December 30, 2017Terrill Thomas, the 38-year-old black man who died of thirst in Clarke s Milwaukee County Jail cell this April, was a victim of homicide. We just thought we should point that out. It can t be repeated enough.Photo by Spencer Platt/Getty Images.\",News,\"December 30, 2017\"\n",
      "\n",
      "\n",
      "CLF Prediction: FAKE \n",
      "LR Prediction: FAKE \n",
      "DT Prediction: FAKE \n",
      "GB Prediction: FAKE \n",
      "RF Prediction: FAKE\n"
     ]
    }
   ],
   "source": [
    "News = str(input())\n",
    "print(Detect(News))"
   ]
  },
  {
   "cell_type": "code",
   "execution_count": null,
   "id": "031e562b",
   "metadata": {},
   "outputs": [],
   "source": []
  }
 ],
 "metadata": {
  "kernelspec": {
   "display_name": "Python 3 (ipykernel)",
   "language": "python",
   "name": "python3"
  },
  "language_info": {
   "codemirror_mode": {
    "name": "ipython",
    "version": 3
   },
   "file_extension": ".py",
   "mimetype": "text/x-python",
   "name": "python",
   "nbconvert_exporter": "python",
   "pygments_lexer": "ipython3",
   "version": "3.9.13"
  }
 },
 "nbformat": 4,
 "nbformat_minor": 5
}
